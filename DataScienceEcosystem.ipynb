{
 "cells": [
  {
   "cell_type": "markdown",
   "id": "170f16a3",
   "metadata": {},
   "source": [
    "**Exercise 2 - Create a markdown cell with the title of the notebook.**"
   ]
  },
  {
   "cell_type": "markdown",
   "id": "a050ab1e",
   "metadata": {},
   "source": [
    "# Data Science Tools and Ecosystem"
   ]
  },
  {
   "cell_type": "markdown",
   "id": "30471ea0",
   "metadata": {},
   "source": [
    "**Exercise 3 - Create a markdown cell for an introduction.**\n",
    "\n",
    "Summary of Data Science Tools and Ecosystem\n",
    "\n",
    "**Goals:**\n",
    "\n",
    "1. Enumerate prevalent programming languages in use by Data Scientists.\n",
    "2. Outline frequently utilized libraries within the Data Science domain.\n",
    "3. Provide insights on the landscape of Data Science tools."
   ]
  },
  {
   "cell_type": "markdown",
   "id": "c10c8da6",
   "metadata": {},
   "source": [
    "**Exercise 4 - Create a markdown cell to list data science languages.**\n",
    "\n",
    "1. Python\n",
    "2. R\n",
    "3. SQL\n",
    "4. Java\n",
    "5. Julia\n",
    "6. Scala\n",
    "7. MATLAB\n",
    "8. C/C++\n",
    "9. JavaScript\n",
    "10. SAS"
   ]
  },
  {
   "cell_type": "markdown",
   "id": "da025582",
   "metadata": {},
   "source": [
    "**Exercise 5 - Create a markdown cell to list data science libraries.**\n",
    "\n",
    "1. NumPy\n",
    "2. Pandas\n",
    "3. Matplotlib\n",
    "4. SciPy\n",
    "5. Scikit-learn\n",
    "6. TensorFlow\n",
    "7. Keras\n",
    "8. PyTorch\n",
    "9. Seaborn\n",
    "10. NLTK\n"
   ]
  },
  {
   "cell_type": "markdown",
   "id": "69cae175",
   "metadata": {},
   "source": [
    "**Exercise 6 - Create a markdown cell with a table of Data Science tools.**"
   ]
  },
  {
   "cell_type": "markdown",
   "id": "e53eed26",
   "metadata": {},
   "source": [
    "| Tools |\n",
    "|-------|\n",
    "|Jupyter Notebook|\n",
    "|RStudio|\n",
    "|Sypder|\n",
    "|Anaconda|\n",
    "|Apache Spark|\n",
    "|BigML|"
   ]
  },
  {
   "cell_type": "markdown",
   "id": "fdba40be",
   "metadata": {},
   "source": [
    "**Exercise 7 - Create a markdown cell introducing arithmetic expression examples.**\n",
    "\n",
    "#Arithmetic operations\n",
    "\n",
    "3+5=8 #Addition\n",
    "\n",
    "10-4=6 #Subtraction\n",
    "\n",
    "6*4=24 #Multiplication\n",
    "\n",
    "15/3=5 #Division\n",
    "\n",
    "2^3=8 #Exponentiation"
   ]
  },
  {
   "cell_type": "markdown",
   "id": "c432abeb",
   "metadata": {},
   "source": [
    "**Exercise 8 - Create a code cell to multiply and add numbers.**"
   ]
  },
  {
   "cell_type": "code",
   "execution_count": 8,
   "id": "9cb61927",
   "metadata": {},
   "outputs": [
    {
     "data": {
      "text/plain": [
       "17"
      ]
     },
     "execution_count": 8,
     "metadata": {},
     "output_type": "execute_result"
    }
   ],
   "source": [
    "(3*4)+5\n",
    "#result = 17"
   ]
  },
  {
   "cell_type": "markdown",
   "id": "4fc74b49",
   "metadata": {},
   "source": [
    "**Exercise 9 - Create a code cell to convert minutes to hours.**"
   ]
  },
  {
   "cell_type": "code",
   "execution_count": 9,
   "id": "1e5e07d4",
   "metadata": {},
   "outputs": [
    {
     "name": "stdout",
     "output_type": "stream",
     "text": [
      "3.3333333333333335 hours\n"
     ]
    }
   ],
   "source": [
    "minutes = 200\n",
    "\n",
    "hours = minutes / 60\n",
    "\n",
    "print(str(hours) + \" hours\")\n",
    "#output is 2.25 hours"
   ]
  },
  {
   "cell_type": "markdown",
   "id": "18c3da85",
   "metadata": {},
   "source": [
    "**Exercise 10 -Insert a markdown cell to list Objectives.**\n",
    "\n",
    "**Objectives:**\n",
    "* List popular languages for Data Science.\n",
    "* List data science libraries. \n",
    "* Table of Data Science tools.\n",
    "* Code cell to convert minutes to hours."
   ]
  },
  {
   "cell_type": "markdown",
   "id": "ace8ded9",
   "metadata": {},
   "source": [
    "## Author\n",
    "Sanjana Reddy Pachika"
   ]
  },
  {
   "cell_type": "code",
   "execution_count": null,
   "id": "4235806f",
   "metadata": {},
   "outputs": [],
   "source": []
  }
 ],
 "metadata": {
  "kernelspec": {
   "display_name": "Python 3 (ipykernel)",
   "language": "python",
   "name": "python3"
  },
  "language_info": {
   "codemirror_mode": {
    "name": "ipython",
    "version": 3
   },
   "file_extension": ".py",
   "mimetype": "text/x-python",
   "name": "python",
   "nbconvert_exporter": "python",
   "pygments_lexer": "ipython3",
   "version": "3.8.18"
  }
 },
 "nbformat": 4,
 "nbformat_minor": 5
}
